{
 "cells": [
  {
   "cell_type": "code",
   "execution_count": 1,
   "metadata": {},
   "outputs": [
    {
     "name": "stdout",
     "output_type": "stream",
     "text": [
      "hello world\n"
     ]
    }
   ],
   "source": [
    "print(\"hello world\")"
   ]
  },
  {
   "cell_type": "code",
   "execution_count": 1,
   "metadata": {},
   "outputs": [
    {
     "name": "stdout",
     "output_type": "stream",
     "text": [
      "4\n"
     ]
    }
   ],
   "source": [
    "print(4)\n",
    "type(12.0)\n",
    "type(True)\n",
    "type(12)\n",
    "message = 'enter your number'"
   ]
  },
  {
   "cell_type": "code",
   "execution_count": 2,
   "metadata": {},
   "outputs": [
    {
     "name": "stdout",
     "output_type": "stream",
     "text": [
      "enter your number\n"
     ]
    },
    {
     "data": {
      "text/plain": [
       "str"
      ]
     },
     "execution_count": 2,
     "metadata": {},
     "output_type": "execute_result"
    }
   ],
   "source": [
    "print(message)\n",
    "type(message) "
   ]
  },
  {
   "cell_type": "code",
   "execution_count": 22,
   "metadata": {},
   "outputs": [
    {
     "data": {
      "text/plain": [
       "5"
      ]
     },
     "execution_count": 22,
     "metadata": {},
     "output_type": "execute_result"
    }
   ],
   "source": [
    "minute = 60\n",
    "minute/11 #floating output\n",
    "minute //11 #int output\n",
    "minute**3 # ** for power\n",
    "minute%11 #remainder\n"
   ]
  },
  {
   "cell_type": "code",
   "execution_count": 23,
   "metadata": {},
   "outputs": [
    {
     "name": "stdout",
     "output_type": "stream",
     "text": [
      "30\n"
     ]
    }
   ],
   "source": [
    "first = 10 \n",
    "second =20\n",
    "print(first+second)\n"
   ]
  },
  {
   "cell_type": "code",
   "execution_count": 31,
   "metadata": {},
   "outputs": [
    {
     "name": "stdout",
     "output_type": "stream",
     "text": [
      "100 200\n",
      "Allah Allah Allah Allah \n"
     ]
    }
   ],
   "source": [
    "first = \"100\"\n",
    "second = '200'\n",
    "msg= 'Allah '\n",
    "print(first+' '+second)\n",
    "num = 4\n",
    "print(msg*num)\n"
   ]
  },
  {
   "cell_type": "code",
   "execution_count": 3,
   "metadata": {},
   "outputs": [
    {
     "name": "stdout",
     "output_type": "stream",
     "text": [
      "<class 'str'>\n"
     ]
    }
   ],
   "source": [
    "inp = input('What is your name: ')\n",
    "print(type(inp))"
   ]
  },
  {
   "cell_type": "code",
   "execution_count": 15,
   "metadata": {},
   "outputs": [
    {
     "name": "stdout",
     "output_type": "stream",
     "text": [
      "10\n",
      "20\n",
      "0.5\n"
     ]
    }
   ],
   "source": [
    "distance = int(input(\"Enter distance: \"))\n",
    "print(distance)\n",
    "time = int(input(\"Enter time: \"))\n",
    "print(time)\n",
    "velocity = distance/time\n",
    "print(velocity)"
   ]
  },
  {
   "cell_type": "code",
   "execution_count": 15,
   "metadata": {},
   "outputs": [
    {
     "name": "stdout",
     "output_type": "stream",
     "text": [
      "1\n"
     ]
    }
   ],
   "source": [
    "#exception\n",
    "#distance_str= input('Enter distance')\n",
    "try:\n",
    "    distance = int(input('Enter distance'))\n",
    "except:\n",
    "    distance = input('Please enter valid distance: ')\n",
    "\n",
    "print(distance)\n",
    "\n",
    "#any one block will run we dont know which one so any one of this will have error\n",
    "#print(dis)\n",
    "#print(distance_str)"
   ]
  },
  {
   "cell_type": "code",
   "execution_count": 16,
   "metadata": {},
   "outputs": [
    {
     "name": "stdout",
     "output_type": "stream",
     "text": [
      "X positive\n",
      "X positive\n"
     ]
    }
   ],
   "source": [
    "x=20\n",
    "if x > 0:\n",
    "    print(\"X positive\")\n",
    "if x > 0:\n",
    "    print(\"X positive\")\n",
    "else:\n",
    "    if x<0:\n",
    "        print(\"x Negative\")\n",
    "    else:\n",
    "        print('Zero')"
   ]
  },
  {
   "cell_type": "code",
   "execution_count": 48,
   "metadata": {},
   "outputs": [
    {
     "data": {
      "text/plain": [
       "10.0"
      ]
     },
     "execution_count": 48,
     "metadata": {},
     "output_type": "execute_result"
    }
   ],
   "source": [
    "max('Hello riad') #ascii maximum value\n",
    "len('hello riad')\n",
    "\n",
    "str(10)\n",
    "float(10)"
   ]
  },
  {
   "cell_type": "code",
   "execution_count": 53,
   "metadata": {},
   "outputs": [
    {
     "name": "stdout",
     "output_type": "stream",
     "text": [
      "3.141592653589793\n"
     ]
    },
    {
     "data": {
      "text/plain": [
       "1.4142135623730951"
      ]
     },
     "execution_count": 53,
     "metadata": {},
     "output_type": "execute_result"
    }
   ],
   "source": [
    "import math\n",
    "print(math.pi)\n",
    "math.sin(math.pi)\n",
    "math.sqrt(2)"
   ]
  },
  {
   "cell_type": "code",
   "execution_count": 23,
   "metadata": {},
   "outputs": [
    {
     "data": {
      "text/plain": [
       "2"
      ]
     },
     "execution_count": 23,
     "metadata": {},
     "output_type": "execute_result"
    }
   ],
   "source": [
    "import random\n",
    "random.randint(10,100)\n",
    "t= [1,2,3]\n",
    "random.choice(t)\n"
   ]
  },
  {
   "cell_type": "code",
   "execution_count": 25,
   "metadata": {},
   "outputs": [
    {
     "name": "stdout",
     "output_type": "stream",
     "text": [
      "0.6399125934036957\n",
      "0.18021713204396217\n",
      "0.054172900231977295\n",
      "0.8800008436066015\n",
      "0.6321784347522577\n",
      "0.6412711963512108\n",
      "0.4452143688742606\n",
      "0.23193508151265896\n",
      "0.6358389305751713\n",
      "0.8204663911166522\n"
     ]
    }
   ],
   "source": [
    "for i in range(10):\n",
    "    x= random.random() # assign number between 0-1 \n",
    "    print(x)"
   ]
  },
  {
   "cell_type": "code",
   "execution_count": 26,
   "metadata": {},
   "outputs": [
    {
     "name": "stdout",
     "output_type": "stream",
     "text": [
      "RUET\n"
     ]
    }
   ],
   "source": [
    "def print_name():\n",
    "    print('RUET')\n",
    "print_name()"
   ]
  },
  {
   "cell_type": "code",
   "execution_count": 32,
   "metadata": {},
   "outputs": [
    {
     "name": "stdout",
     "output_type": "stream",
     "text": [
      "RUET\n",
      "CUET 1964\n"
     ]
    }
   ],
   "source": [
    "#function with argument\n",
    "def print_name_twic(name , est):\n",
    "    print_name()\n",
    "    print(name , est)\n",
    "print_name_twic('CUET',1964)"
   ]
  },
  {
   "cell_type": "code",
   "execution_count": 33,
   "metadata": {},
   "outputs": [
    {
     "data": {
      "text/plain": [
       "'RUET'"
      ]
     },
     "execution_count": 33,
     "metadata": {},
     "output_type": "execute_result"
    }
   ],
   "source": [
    "#function with return\n",
    "def get_name():\n",
    "    return 'RUET'\n",
    "get_name()"
   ]
  },
  {
   "cell_type": "code",
   "execution_count": 37,
   "metadata": {},
   "outputs": [
    {
     "name": "stdout",
     "output_type": "stream",
     "text": [
      "1020\n"
     ]
    },
    {
     "data": {
      "text/plain": [
       "30"
      ]
     },
     "execution_count": 37,
     "metadata": {},
     "output_type": "execute_result"
    }
   ],
   "source": [
    "def add_two(a, b):\n",
    "    added = a + b\n",
    "    return added\n",
    "print(add_two('10', '20'))\n",
    "add_two(10, 20)\n",
    "\n"
   ]
  },
  {
   "cell_type": "code",
   "execution_count": 39,
   "metadata": {},
   "outputs": [
    {
     "data": {
      "text/plain": [
       "range(10, 110)"
      ]
     },
     "execution_count": 39,
     "metadata": {},
     "output_type": "execute_result"
    }
   ],
   "source": [
    "range(10, 110)\n"
   ]
  },
  {
   "cell_type": "code",
   "execution_count": 41,
   "metadata": {},
   "outputs": [
    {
     "name": "stdout",
     "output_type": "stream",
     "text": [
      "10\n",
      "11\n",
      "12\n",
      "13\n",
      "14\n",
      "15\n",
      "16\n",
      "17\n",
      "18\n",
      "19\n"
     ]
    }
   ],
   "source": [
    "# means 19 is the last number here\n",
    "#FOR IS ITERATIVE LOOP\n",
    "for i in range(10,20):\n",
    "    print(i)"
   ]
  },
  {
   "cell_type": "code",
   "execution_count": 43,
   "metadata": {},
   "outputs": [
    {
     "name": "stdout",
     "output_type": "stream",
     "text": [
      "10\n",
      "8\n",
      "6\n",
      "4\n",
      "2\n",
      "0\n"
     ]
    }
   ],
   "source": [
    "#c while loop same here\n",
    "n=10\n",
    "while n>0:\n",
    "    print(n)\n",
    "    n=n-2"
   ]
  },
  {
   "cell_type": "code",
   "execution_count": 45,
   "metadata": {},
   "outputs": [
    {
     "name": "stdout",
     "output_type": "stream",
     "text": [
      "asd\n",
      "awf\n",
      "awf\n",
      "Finished\n"
     ]
    }
   ],
   "source": [
    "while True:\n",
    "    line = input('>')\n",
    "    if line == 'done':\n",
    "        break\n",
    "    print(line)\n",
    "print('Finished')"
   ]
  },
  {
   "cell_type": "code",
   "execution_count": 46,
   "metadata": {},
   "outputs": [
    {
     "name": "stdout",
     "output_type": "stream",
     "text": [
      "RUET\n",
      "CUET\n",
      "KURT\n",
      "BUET\n"
     ]
    }
   ],
   "source": [
    "university = ['RUET','CUET','KURT','BUET']\n",
    "for uni in university:\n",
    "    print(uni)"
   ]
  },
  {
   "cell_type": "code",
   "execution_count": 2,
   "metadata": {},
   "outputs": [
    {
     "name": "stdout",
     "output_type": "stream",
     "text": [
      "Finished\n"
     ]
    }
   ],
   "source": [
    "while True:\n",
    "    line = input('>')\n",
    "    if line[0] == '#':\n",
    "        continue\n",
    "    if line == 'done':\n",
    "        break\n",
    "    print(line)\n",
    "print('Finished')"
   ]
  },
  {
   "cell_type": "code",
   "execution_count": 3,
   "metadata": {},
   "outputs": [
    {
     "name": "stdout",
     "output_type": "stream",
     "text": [
      "1\n",
      "2\n",
      "3\n",
      "4\n",
      "5\n",
      "6\n",
      "6\n"
     ]
    }
   ],
   "source": [
    "count = 0\n",
    "for iter in [1, 2, 3, 4, 5, 6]:\n",
    "    count = count + 1\n",
    "    print(iter)\n",
    "print(count)"
   ]
  },
  {
   "cell_type": "code",
   "execution_count": 7,
   "metadata": {},
   "outputs": [
    {
     "name": "stdout",
     "output_type": "stream",
     "text": [
      "20\n",
      "30\n",
      "40\n",
      "50\n",
      "140\n"
     ]
    }
   ],
   "source": [
    "count = 0\n",
    "for iter in [20, 30, 40, 50]:\n",
    "    print(iter)\n",
    "    count = count + iter\n",
    "print(count)"
   ]
  },
  {
   "cell_type": "code",
   "execution_count": 8,
   "metadata": {},
   "outputs": [
    {
     "name": "stdout",
     "output_type": "stream",
     "text": [
      "None\n",
      "Before:  None\n",
      "loop: 20 20\n",
      "loop: 30 30\n",
      "loop: 40 40\n",
      "after:  <class 'int'>\n"
     ]
    }
   ],
   "source": [
    "large = None #None means no data in large\n",
    "print(large)\n",
    "print(\"Before: \", large)\n",
    "\n",
    "for itr in [20, 30, 40]:\n",
    "    if large is None or itr>large:\n",
    "        large = itr\n",
    "    print('loop:', itr, large)\n",
    "print('after: ',type(large) )"
   ]
  },
  {
   "cell_type": "code",
   "execution_count": 18,
   "metadata": {},
   "outputs": [
    {
     "name": "stdout",
     "output_type": "stream",
     "text": [
      "Minimum Value is:  5\n",
      "Minimum Value is:  5\n",
      "[5, 10, 20, 20, 40]\n",
      "[40, 20, 20, 10, 5]\n",
      "[40, 20, 20, 10, 5]\n"
     ]
    }
   ],
   "source": [
    "numbers = [10, 20, 40, 20, 5]\n",
    "min_val = numbers[0]\n",
    "for num in numbers:\n",
    "    if min_val>num:\n",
    "        min_val = num\n",
    "print('Minimum Value is: ',min_val)\n",
    "print('Minimum Value is: ',min(numbers))\n",
    "numbers.sort()\n",
    "print(numbers)\n",
    "numbers.sort(reverse=True)\n",
    "print(numbers)\n",
    "\n",
    "sorted(numbers, reverse=True)\n",
    "print(numbers)\n"
   ]
  },
  {
   "cell_type": "code",
   "execution_count": 19,
   "metadata": {},
   "outputs": [
    {
     "name": "stdout",
     "output_type": "stream",
     "text": [
      "['RUET', 'DUET', 'BUET', 'CUET']\n"
     ]
    }
   ],
   "source": [
    "#list\n",
    "eng_uni = ['RUET','KUET','BUET','CUET']\n",
    "for i in range(len(eng_uni)):\n",
    "    if eng_uni[i] == 'KUET':\n",
    "        eng_uni[i] = 'DUET'\n",
    "print(eng_uni)\n",
    "\n",
    "#list scaling\n",
    "#first find index\n",
    "i= eng_uni.index('KUET')\n",
    "eng_uni = eng_uni[:i]+['DUET']+eng_uni[l+1:]\n",
    "print(eng_uni)\n",
    "\n",
    "\n"
   ]
  },
  {
   "cell_type": "code",
   "execution_count": 21,
   "metadata": {},
   "outputs": [
    {
     "name": "stdout",
     "output_type": "stream",
     "text": [
      "['RUET', 'DUET', 'BUET', 'CUET']\n"
     ]
    }
   ],
   "source": [
    "eng_uni = ['RUET','KUET','BUET','CUET']\n",
    "#list scaling\n",
    "#first find index\n",
    "i= eng_uni.index('KUET')\n",
    "#now replace 'KUET' with 'DUET'\n",
    "eng_uni = eng_uni[:i]+['DUET']+eng_uni[i+1:]\n",
    "print(eng_uni)\n",
    "\n",
    "\n"
   ]
  },
  {
   "cell_type": "code",
   "execution_count": 22,
   "metadata": {},
   "outputs": [
    {
     "name": "stdout",
     "output_type": "stream",
     "text": [
      "['RUET', 'DUET', 'BUET', 'CUET']\n"
     ]
    }
   ],
   "source": [
    "eng_uni = ['RUET','KUET','BUET','CUET']\n",
    "#list scaling by lambda function\n",
    "\n",
    "#now replace 'KUET' with 'DUET'\n",
    "eng_uni = list(map(lambda x: x.replace('KUET', 'DUET'),eng_uni))\n",
    "print(eng_uni)\n",
    "\n",
    "\n"
   ]
  },
  {
   "cell_type": "code",
   "execution_count": 27,
   "metadata": {},
   "outputs": [
    {
     "name": "stdout",
     "output_type": "stream",
     "text": [
      "['RUET', 'KUET', 'BUET', 'CUET']\n"
     ]
    }
   ],
   "source": [
    "#enumerate function: enumerate(list)= [(0, list[0]), ...] like this\n",
    "for i, uni in enumerate(eng_uni):\n",
    "    if eng_uni[i] == 'DUET':\n",
    "        eng_uni[i]= 'KUET'\n",
    "print(eng_uni)\n"
   ]
  },
  {
   "cell_type": "code",
   "execution_count": null,
   "metadata": {},
   "outputs": [],
   "source": []
  }
 ],
 "metadata": {
  "kernelspec": {
   "display_name": "Python 3",
   "language": "python",
   "name": "python3"
  },
  "language_info": {
   "codemirror_mode": {
    "name": "ipython",
    "version": 3
   },
   "file_extension": ".py",
   "mimetype": "text/x-python",
   "name": "python",
   "nbconvert_exporter": "python",
   "pygments_lexer": "ipython3",
   "version": "3.10.6"
  },
  "orig_nbformat": 4,
  "vscode": {
   "interpreter": {
    "hash": "916dbcbb3f70747c44a77c7bcd40155683ae19c65e1c03b4aa3499c5328201f1"
   }
  }
 },
 "nbformat": 4,
 "nbformat_minor": 2
}
